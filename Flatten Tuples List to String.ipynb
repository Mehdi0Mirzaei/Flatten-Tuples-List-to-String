{
 "cells": [
  {
   "cell_type": "code",
   "execution_count": 6,
   "id": "3c724c78",
   "metadata": {},
   "outputs": [
    {
     "name": "stdout",
     "output_type": "stream",
     "text": [
      "The original list : [('1', '4', '6'), ('5', '8'), ('2', '9'), ('1', '10')]\n",
      "Tuple list converted to String is : 1 4 6 5 8 2 9 1 10\n"
     ]
    }
   ],
   "source": [
    "# initialize list of tuple\n",
    "test_list = [('1', '4', '6'), ('5', '8'), ('2', '9'), ('1', '10')]\n",
    " \n",
    "# printing original tuples list\n",
    "print(\"The original list : \" + str(test_list))\n",
    " \n",
    "# Flatten Tuples List to String\n",
    "# using join() + list comprehension\n",
    "res = ' '.join([idx for tup in test_list for idx in tup])\n",
    " \n",
    "# printing result\n",
    "print(\"Tuple list converted to String is : \" + res)\n"
   ]
  },
  {
   "cell_type": "code",
   "execution_count": 7,
   "id": "854539c0",
   "metadata": {},
   "outputs": [
    {
     "name": "stdout",
     "output_type": "stream",
     "text": [
      "The original list : [('1', '4', '6'), ('5', '8'), ('2', '9'), ('1', '10')]\n",
      "Tuple list converted to String is : 1 4 6 5 8 2 9 1 10\n"
     ]
    }
   ],
   "source": [
    "# initialize list of tuple\n",
    "test_list = [('1', '4', '6'), ('5', '8'), ('2', '9'), ('1', '10')]\n",
    " \n",
    "# printing original tuples list\n",
    "print(\"The original list : \" + str(test_list))\n",
    " \n",
    "# Flatten Tuples List to String\n",
    "res = []\n",
    "for i in test_list:\n",
    "    res.extend(list(i))\n",
    "res = \" \".join(res)\n",
    "# printing result\n",
    "print(\"Tuple list converted to String is : \" + res)"
   ]
  },
  {
   "cell_type": "code",
   "execution_count": 8,
   "id": "8d5c53c6",
   "metadata": {},
   "outputs": [
    {
     "name": "stdout",
     "output_type": "stream",
     "text": [
      "The original list : [('1', '4', '6'), ('5', '8'), ('2', '9'), ('1', '10')]\n",
      "Tuple list converted to String is : 1 4 6 5 8 2 9 1 10\n"
     ]
    }
   ],
   "source": [
    "# initialize list of tuple\n",
    "test_list = [('1', '4', '6'), ('5', '8'), ('2', '9'), ('1', '10')]\n",
    " \n",
    "# printing original tuples list\n",
    "print(\"The original list : \" + str(test_list))\n",
    " \n",
    "# Flatten Tuples List to String\n",
    "res = \" \".join(map(str, sum(test_list, ())))\n",
    "# printing result\n",
    "print(\"Tuple list converted to String is : \" + res)\n"
   ]
  },
  {
   "cell_type": "code",
   "execution_count": 9,
   "id": "b74e4467",
   "metadata": {},
   "outputs": [
    {
     "name": "stdout",
     "output_type": "stream",
     "text": [
      "The original list : [('1', '4', '6'), ('5', '8'), ('2', '9'), ('1', '10')]\n",
      "Tuple list converted to String is : 1 4 6 5 8 2 9 1 10\n"
     ]
    }
   ],
   "source": [
    "# initialize list of tuple\n",
    "test_list = [('1', '4', '6'), ('5', '8'), ('2', '9'), ('1', '10')]\n",
    " \n",
    "# printing original tuples list\n",
    "print(\"The original list : \" + str(test_list))\n",
    " \n",
    "# Flatten Tuples List to String\n",
    "res = \"\"\n",
    "for tup in test_list:\n",
    "    for element in tup:\n",
    "        res += element + \" \"\n",
    " # remove last space\n",
    "res = res[:-1]\n",
    " \n",
    "# printing result\n",
    "print(\"Tuple list converted to String is : \" + res)"
   ]
  },
  {
   "cell_type": "code",
   "execution_count": null,
   "id": "86c0959f",
   "metadata": {},
   "outputs": [],
   "source": []
  }
 ],
 "metadata": {
  "kernelspec": {
   "display_name": "Python 3 (ipykernel)",
   "language": "python",
   "name": "python3"
  },
  "language_info": {
   "codemirror_mode": {
    "name": "ipython",
    "version": 3
   },
   "file_extension": ".py",
   "mimetype": "text/x-python",
   "name": "python",
   "nbconvert_exporter": "python",
   "pygments_lexer": "ipython3",
   "version": "3.9.13"
  }
 },
 "nbformat": 4,
 "nbformat_minor": 5
}
